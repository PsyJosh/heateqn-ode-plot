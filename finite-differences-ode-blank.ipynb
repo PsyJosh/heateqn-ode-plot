{
 "cells": [
  {
   "cell_type": "raw",
   "metadata": {
    "id": "p9X3-34xuDb7"
   },
   "source": [
    "---\n",
    "title: \"Numerical Solver of Boundary Value ODE using Finite Differences\"\n",
    "author: \"Joshua Vargas\"\n",
    "date: \"2024-11-27\"\n",
    "categories: [math]\n",
    "---"
   ]
  },
  {
   "cell_type": "markdown",
   "metadata": {
    "id": "Ijk35nxchF6w"
   },
   "source": [
    "# Numerical Solver of Boundary Value ODE using Finite Differences\n",
    "The following notebook will focus on solving the ODE from the book *Methods for the Numerical Solution of Partial Differential Equations, Von Rosenberg*. The differential equation is\n",
    "\\begin{equation*}\n",
    "  \\frac{d^2 u}{dx^2} + \\frac{2}{q+x} \\frac{du}{dx} - \\frac{2p}{q+x} u = 0; u(0) = 0, u(1) = 1.\n",
    "\\end{equation*}\n",
    "\n",
    "We will pick values for $p$, $q$ for this question. In particular, let $p = 7$, $q = 5$.\n",
    "\n",
    "**Task**: Using the finite difference method, solve and plot the solution of the differential equation above.\n",
    "\n",
    "**Notes on Implementation.**\n",
    "\n",
    "- Be sure to implement $p$, $q$ as generalizable parameters.\n",
    "- Consider making the functions next to derivatives of $u$ generalizable.\n",
    "- Plot the solutions of the graph.\n",
    "- Compare your solutions to another DE plotter.\n",
    "- Experiment with behavioral differences of the graph for different values of $p$, $q$. What do you notice?\n",
    "\n",
    "**Goal:** Make it readable up to a differential equation level."
   ]
  },
  {
   "cell_type": "markdown",
   "metadata": {
    "id": "VKKrefAixk24"
   },
   "source": [
    "## Necessary Imports\n",
    "\n",
    "The listed packages below are needed for the computation. Add any extras that are needed here."
   ]
  },
  {
   "cell_type": "code",
   "execution_count": 1,
   "metadata": {
    "executionInfo": {
     "elapsed": 997,
     "status": "ok",
     "timestamp": 1732740948078,
     "user": {
      "displayName": "Joshua Vargas",
      "userId": "10720252340778785799"
     },
     "user_tz": 480
    },
    "id": "IrclhSUxxQRH"
   },
   "outputs": [],
   "source": [
    "from matplotlib import pyplot as plt\n",
    "import numpy as np\n",
    "import plotly.express as px\n",
    "import plotly.graph_objects as go"
   ]
  },
  {
   "cell_type": "markdown",
   "metadata": {
    "id": "zr4bc-78ys50"
   },
   "source": [
    "# Code Implementation\n",
    "\n",
    "Input all other code below this section."
   ]
  },
  {
   "cell_type": "code",
   "execution_count": null,
   "metadata": {},
   "outputs": [],
   "source": [
    "### Insert code here. ###"
   ]
  }
 ],
 "metadata": {
  "colab": {
   "provenance": [],
   "toc_visible": true
  },
  "kernelspec": {
   "display_name": "Python 3 (ipykernel)",
   "language": "python",
   "name": "python3"
  },
  "language_info": {
   "codemirror_mode": {
    "name": "ipython",
    "version": 3
   },
   "file_extension": ".py",
   "mimetype": "text/x-python",
   "name": "python",
   "nbconvert_exporter": "python",
   "pygments_lexer": "ipython3",
   "version": "3.9.12"
  }
 },
 "nbformat": 4,
 "nbformat_minor": 1
}
